{
  "nbformat": 4,
  "nbformat_minor": 0,
  "metadata": {
    "colab": {
      "name": "QUBO",
      "provenance": [],
      "collapsed_sections": [],
      "authorship_tag": "ABX9TyOsDzp7rAd5PWAbdeK26nYl",
      "include_colab_link": true
    },
    "kernelspec": {
      "name": "python3",
      "display_name": "Python 3"
    },
    "language_info": {
      "name": "python"
    }
  },
  "cells": [
    {
      "cell_type": "markdown",
      "metadata": {
        "id": "view-in-github",
        "colab_type": "text"
      },
      "source": [
        "<a href=\"https://colab.research.google.com/github/Steve-deltora/Digital_Annealing/blob/main/QUBO.ipynb\" target=\"_parent\"><img src=\"https://colab.research.google.com/assets/colab-badge.svg\" alt=\"Open In Colab\"/></a>"
      ]
    },
    {
      "cell_type": "markdown",
      "metadata": {
        "id": "a9oaFFuEtJfL"
      },
      "source": [
        "# qbsolv"
      ]
    },
    {
      "cell_type": "markdown",
      "metadata": {
        "id": "LSelsmKbwxMV"
      },
      "source": [
        "參考來源：\n",
        "* [What is a BQM? | D-Wave Leap](https://www.youtube.com/watch?v=2GYmEz7cFhs)\n",
        "* [qbsolv](https://docs.ocean.dwavesys.com/projects/qbsolv/en/latest/source/generated/dwave_qbsolv.QBSolv.sample.html#dwave_qbsolv.QBSolv.sample)\n"
      ]
    },
    {
      "cell_type": "code",
      "metadata": {
        "colab": {
          "base_uri": "https://localhost:8080/"
        },
        "id": "q4ak5jq0Gs9d",
        "outputId": "02bd5622-6dc4-4648-9c21-232dc26256e3"
      },
      "source": [
        "pip install dwave-qbsolv"
      ],
      "execution_count": null,
      "outputs": [
        {
          "output_type": "stream",
          "text": [
            "Collecting dwave-qbsolv\n",
            "\u001b[?25l  Downloading https://files.pythonhosted.org/packages/4f/3a/5bcfd681ed141866dc7a0e5b58de790236b6e7896cade92ecad16c1a3dca/dwave_qbsolv-0.3.2-cp37-cp37m-manylinux1_x86_64.whl (204kB)\n",
            "\u001b[K     |████████████████████████████████| 204kB 6.1MB/s \n",
            "\u001b[?25hCollecting dimod<0.10.0,>=0.8.1\n",
            "\u001b[?25l  Downloading https://files.pythonhosted.org/packages/f5/68/848692741659d05a8055908b84a82cc97e773b06e428813789b1d379fe5f/dimod-0.9.15-cp37-cp37m-manylinux_2_5_x86_64.manylinux1_x86_64.whl (7.0MB)\n",
            "\u001b[K     |████████████████████████████████| 7.0MB 20.8MB/s \n",
            "\u001b[?25hRequirement already satisfied: numpy<2.0.0,>=1.17.3 in /usr/local/lib/python3.7/dist-packages (from dimod<0.10.0,>=0.8.1->dwave-qbsolv) (1.19.5)\n",
            "Installing collected packages: dimod, dwave-qbsolv\n",
            "Successfully installed dimod-0.9.15 dwave-qbsolv-0.3.2\n"
          ],
          "name": "stdout"
        }
      ]
    },
    {
      "cell_type": "code",
      "metadata": {
        "id": "aGubl7qJGzk2"
      },
      "source": [
        "from dwave_qbsolv import QBSolv"
      ],
      "execution_count": null,
      "outputs": []
    },
    {
      "cell_type": "code",
      "metadata": {
        "colab": {
          "base_uri": "https://localhost:8080/"
        },
        "id": "fqoUWqBgs130",
        "outputId": "3dafdfab-7ff5-4eee-c01c-4fc652f4bbae"
      },
      "source": [
        "q = [\n",
        "     [-3525,175,325,775,1050,425,525,250],\n",
        "     [175,-1113,91,217,294,119,147,70],\n",
        "     [325,91,-1989,403,546,221,273,130],\n",
        "     [775,217,403,-4185,1302,527,651,310],\n",
        "     [1050,294,546,1302,-5208,714,882,420],\n",
        "     [425,119,221,527,714,-2533,357,170],\n",
        "     [525,147,273,651,882,357,-3045,210],\n",
        "     [250,70,130,310,420,170,210,-1560]\n",
        "  ]\n",
        "\n",
        "Q = {}\n",
        "\n",
        "for i in range(len(q)):\n",
        "  for j in range(len(q)):\n",
        "    Q[(i,j)] = q[i][j]\n",
        "\n",
        "\"\"\"\n",
        "將Q\n",
        "[\n",
        "  [2,-1,-1,0,0],\n",
        "  [-1,0,2,-1,0],\n",
        "  [-1,0,0,3,-1,-1],\n",
        "  [0,-1,-1,3,-1],\n",
        "  [0,0,-1,-1,2]\n",
        "]\n",
        "\n",
        "轉換成qbsolv看得懂的(x,y):係數\n",
        "(0,0):2,(0,1):-1,(0,2):-1,\n",
        "(1,0):-1,(1,1):2,(1,3):-1,\n",
        "(2,0):-1,(2,2):3,(2,3):-1,(2,4):-1,\n",
        "(3,1):-1,(3,2):-1,(3,3):3,(3,4):-1,\n",
        "(4,2):-1,(4,3):-1,(4,4):2\n",
        "\"\"\"\n",
        "\n",
        "QBSolv().sample_qubo(Q, find_max = False)"
      ],
      "execution_count": null,
      "outputs": [
        {
          "output_type": "execute_result",
          "data": {
            "text/plain": [
              "SampleSet(rec.array([([1, 0, 0, 1, 0, 1, 0, 1], -6889., 12),\n",
              "           ([1, 1, 1, 0, 0, 1, 1, 0], -6889., 10),\n",
              "           ([0, 0, 0, 1, 1, 0, 0, 1], -6889.,  7),\n",
              "           ([0, 1, 1, 0, 1, 0, 1, 0], -6889., 20),\n",
              "           ([0, 0, 1, 0, 1, 1, 0, 1], -6888.,  1),\n",
              "           ([1, 0, 1, 0, 0, 1, 1, 1], -6880.,  3)],\n",
              "          dtype=[('sample', 'i1', (8,)), ('energy', '<f8'), ('num_occurrences', '<i8')]), Variables([0, 1, 2, 3, 4, 5, 6, 7]), {}, 'BINARY')"
            ]
          },
          "metadata": {
            "tags": []
          },
          "execution_count": 33
        }
      ]
    }
  ]
}